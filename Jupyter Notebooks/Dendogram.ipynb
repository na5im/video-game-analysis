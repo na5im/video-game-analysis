{
 "cells": [
  {
   "cell_type": "code",
   "execution_count": 40,
   "metadata": {},
   "outputs": [
    {
     "data": {
      "image/png": "[encoded data removed]",
      "text/plain": [
       "<Figure size 720x504 with 1 Axes>"
      ]
     },
     "metadata": {
      "needs_background": "light"
     },
     "output_type": "display_data"
    },
    {
     "name": "stdout",
     "output_type": "stream",
     "text": [
      "[1 1 1 1 1 1 1]\n"
     ]
    }
   ],
   "source": [
    "import pandas as pd\n",
    "import numpy as np\n",
    "import matplotlib.pyplot as plt\n",
    "from scipy.cluster.hierarchy import linkage, dendrogram, fcluster\n",
    "\n",
    "# Load the data\n",
    "df = pd.read_csv('maybe_final.csv')\n",
    "\n",
    "df['units_shipped'] = df['units_shipped'].str.replace('m', '000000').astype(float)\n",
    "df['total_rating'] = df['total_rating'].fillna(0).astype(float)\n",
    "\n",
    "# Drop any rows with missing values\n",
    "df = df.dropna()\n",
    "\n",
    "# Extract the features we want to use for clustering\n",
    "X = df[['units_shipped', 'total_rating']].values\n",
    "\n",
    "# Calculate the linkage matrix\n",
    "Z = linkage(X, method='ward')\n",
    "\n",
    "# Plot the dendrogram\n",
    "plt.figure(figsize=(10, 7))\n",
    "dendrogram(Z)\n",
    "plt.xlabel('CLusters')\n",
    "plt.ylabel('Euclidean Distance')\n",
    "plt.title('Dendrogram')\n",
    "plt.show()\n",
    "\n",
    "# Assign observations to clusters\n",
    "max_d = 15\n",
    "clusters = fcluster(Z, max_d, criterion='distance')\n",
    "\n",
    "# Print the cluster assignments\n",
    "print(clusters)"
   ]
  },
  {
   "cell_type": "code",
   "execution_count": null,
   "metadata": {},
   "outputs": [],
   "source": []
  }
 ],
 "metadata": {
  "kernelspec": {
   "display_name": "Python 3",
   "language": "python",
   "name": "python3"
  },
  "language_info": {
   "codemirror_mode": {
    "name": "ipython",
    "version": 3
   },
   "file_extension": ".py",
   "mimetype": "text/x-python",
   "name": "python",
   "nbconvert_exporter": "python",
   "pygments_lexer": "ipython3",
   "version": "3.8.5"
  }
 },
 "nbformat": 4,
 "nbformat_minor": 4
}
